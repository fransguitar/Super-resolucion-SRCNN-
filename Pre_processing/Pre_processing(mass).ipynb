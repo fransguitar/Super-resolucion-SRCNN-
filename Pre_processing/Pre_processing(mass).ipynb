{
 "cells": [
  {
   "cell_type": "code",
   "execution_count": 13,
   "id": "23de89be",
   "metadata": {},
   "outputs": [],
   "source": [
    "from pathlib import Path\n",
    "import os\n",
    "from scipy.io import savemat\n",
    "import mat73\n",
    "import numpy as np\n",
    "import cv2\n",
    "import matplotlib.pyplot as plt\n",
    "from PIL import Image\n",
    "from skimage import color\n",
    "from skimage import io\n",
    "import pandas as pd "
   ]
  },
  {
   "cell_type": "code",
   "execution_count": 3,
   "id": "f7e183a0",
   "metadata": {},
   "outputs": [
    {
     "ename": "KeyboardInterrupt",
     "evalue": "",
     "output_type": "error",
     "traceback": [
      "\u001b[1;31m---------------------------------------------------------------------------\u001b[0m",
      "\u001b[1;31mKeyboardInterrupt\u001b[0m                         Traceback (most recent call last)",
      "\u001b[1;32m~\\AppData\\Local\\Temp/ipykernel_12372/2302447265.py\u001b[0m in \u001b[0;36m<module>\u001b[1;34m\u001b[0m\n\u001b[0;32m      6\u001b[0m \u001b[0mp\u001b[0m\u001b[1;33m=\u001b[0m\u001b[1;36m0\u001b[0m \u001b[1;31m#vatiable para diferenciar los archivos resultantes\u001b[0m\u001b[1;33m\u001b[0m\u001b[1;33m\u001b[0m\u001b[0m\n\u001b[0;32m      7\u001b[0m \u001b[1;32mfor\u001b[0m \u001b[0ma\u001b[0m \u001b[1;32min\u001b[0m \u001b[0mrange\u001b[0m\u001b[1;33m(\u001b[0m\u001b[0mlen\u001b[0m\u001b[1;33m(\u001b[0m\u001b[0mdirs\u001b[0m\u001b[1;33m)\u001b[0m\u001b[1;33m)\u001b[0m\u001b[1;33m:\u001b[0m \u001b[1;31m#recorremos cada un de lso archivoa originales\u001b[0m\u001b[1;33m\u001b[0m\u001b[1;33m\u001b[0m\u001b[0m\n\u001b[1;32m----> 8\u001b[1;33m     \u001b[0mimg\u001b[0m\u001b[1;33m=\u001b[0m\u001b[0mmat73\u001b[0m\u001b[1;33m.\u001b[0m\u001b[0mloadmat\u001b[0m\u001b[1;33m(\u001b[0m\u001b[0mroot\u001b[0m\u001b[1;33m+\u001b[0m\u001b[0mdirs\u001b[0m\u001b[1;33m[\u001b[0m\u001b[0ma\u001b[0m\u001b[1;33m]\u001b[0m\u001b[1;33m)\u001b[0m\u001b[1;33m.\u001b[0m\u001b[0mget\u001b[0m\u001b[1;33m(\u001b[0m\u001b[1;34m'rgb'\u001b[0m\u001b[1;33m)\u001b[0m \u001b[1;31m#cargamos el archivo corespondiente a la iteracion\u001b[0m\u001b[1;33m\u001b[0m\u001b[1;33m\u001b[0m\u001b[0m\n\u001b[0m\u001b[0;32m      9\u001b[0m     \u001b[0mx\u001b[0m\u001b[1;33m=\u001b[0m\u001b[0mint\u001b[0m\u001b[1;33m(\u001b[0m\u001b[0mimg\u001b[0m\u001b[1;33m.\u001b[0m\u001b[0mshape\u001b[0m\u001b[1;33m[\u001b[0m\u001b[1;36m0\u001b[0m\u001b[1;33m]\u001b[0m\u001b[1;33m/\u001b[0m\u001b[0md\u001b[0m\u001b[1;33m)\u001b[0m \u001b[1;31m#caculamos la cantidad de particiones que podemos hacer en cada eje\u001b[0m\u001b[1;33m\u001b[0m\u001b[1;33m\u001b[0m\u001b[0m\n\u001b[0;32m     10\u001b[0m     \u001b[0my\u001b[0m\u001b[1;33m=\u001b[0m\u001b[0mint\u001b[0m\u001b[1;33m(\u001b[0m\u001b[0mimg\u001b[0m\u001b[1;33m.\u001b[0m\u001b[0mshape\u001b[0m\u001b[1;33m[\u001b[0m\u001b[1;36m1\u001b[0m\u001b[1;33m]\u001b[0m\u001b[1;33m/\u001b[0m\u001b[0md\u001b[0m\u001b[1;33m)\u001b[0m\u001b[1;33m\u001b[0m\u001b[1;33m\u001b[0m\u001b[0m\n",
      "\u001b[1;32m~\\miniconda3\\envs\\HRproyect\\lib\\site-packages\\mat73\\__init__.py\u001b[0m in \u001b[0;36mloadmat\u001b[1;34m(filename, use_attrdict, only_load, verbose)\u001b[0m\n\u001b[0;32m    230\u001b[0m     \u001b[1;32mtry\u001b[0m\u001b[1;33m:\u001b[0m\u001b[1;33m\u001b[0m\u001b[1;33m\u001b[0m\u001b[0m\n\u001b[0;32m    231\u001b[0m         \u001b[1;32mwith\u001b[0m \u001b[0mh5py\u001b[0m\u001b[1;33m.\u001b[0m\u001b[0mFile\u001b[0m\u001b[1;33m(\u001b[0m\u001b[0mfilename\u001b[0m\u001b[1;33m,\u001b[0m \u001b[1;34m'r'\u001b[0m\u001b[1;33m)\u001b[0m \u001b[1;32mas\u001b[0m \u001b[0mhdf5\u001b[0m\u001b[1;33m:\u001b[0m\u001b[1;33m\u001b[0m\u001b[1;33m\u001b[0m\u001b[0m\n\u001b[1;32m--> 232\u001b[1;33m             \u001b[0mdictionary\u001b[0m \u001b[1;33m=\u001b[0m \u001b[0mdecoder\u001b[0m\u001b[1;33m.\u001b[0m\u001b[0mmat2dict\u001b[0m\u001b[1;33m(\u001b[0m\u001b[0mhdf5\u001b[0m\u001b[1;33m,\u001b[0m \u001b[0monly_load\u001b[0m\u001b[1;33m=\u001b[0m\u001b[0monly_load\u001b[0m\u001b[1;33m)\u001b[0m\u001b[1;33m\u001b[0m\u001b[1;33m\u001b[0m\u001b[0m\n\u001b[0m\u001b[0;32m    233\u001b[0m         \u001b[1;32mreturn\u001b[0m \u001b[0mdictionary\u001b[0m\u001b[1;33m\u001b[0m\u001b[1;33m\u001b[0m\u001b[0m\n\u001b[0;32m    234\u001b[0m     \u001b[1;32mexcept\u001b[0m \u001b[0mOSError\u001b[0m\u001b[1;33m:\u001b[0m\u001b[1;33m\u001b[0m\u001b[1;33m\u001b[0m\u001b[0m\n",
      "\u001b[1;32m~\\miniconda3\\envs\\HRproyect\\lib\\site-packages\\mat73\\__init__.py\u001b[0m in \u001b[0;36mmat2dict\u001b[1;34m(self, hdf5, only_load)\u001b[0m\n\u001b[0;32m     56\u001b[0m             \u001b[1;32mif\u001b[0m \u001b[0mext\u001b[0m\u001b[1;33m.\u001b[0m\u001b[0mlower\u001b[0m\u001b[1;33m(\u001b[0m\u001b[1;33m)\u001b[0m\u001b[1;33m==\u001b[0m\u001b[1;34m'.mat'\u001b[0m\u001b[1;33m:\u001b[0m\u001b[1;33m\u001b[0m\u001b[1;33m\u001b[0m\u001b[0m\n\u001b[0;32m     57\u001b[0m                 \u001b[1;31m# if hdf5\u001b[0m\u001b[1;33m\u001b[0m\u001b[1;33m\u001b[0m\u001b[1;33m\u001b[0m\u001b[0m\n\u001b[1;32m---> 58\u001b[1;33m                 \u001b[0md\u001b[0m\u001b[1;33m[\u001b[0m\u001b[0mvar\u001b[0m\u001b[1;33m]\u001b[0m \u001b[1;33m=\u001b[0m \u001b[0mself\u001b[0m\u001b[1;33m.\u001b[0m\u001b[0munpack_mat\u001b[0m\u001b[1;33m(\u001b[0m\u001b[0mhdf5\u001b[0m\u001b[1;33m[\u001b[0m\u001b[0mvar\u001b[0m\u001b[1;33m]\u001b[0m\u001b[1;33m)\u001b[0m\u001b[1;33m\u001b[0m\u001b[1;33m\u001b[0m\u001b[0m\n\u001b[0m\u001b[0;32m     59\u001b[0m             \u001b[1;32melif\u001b[0m \u001b[0mext\u001b[0m\u001b[1;33m==\u001b[0m\u001b[1;34m'.h5'\u001b[0m \u001b[1;32mor\u001b[0m \u001b[0mext\u001b[0m\u001b[1;33m==\u001b[0m\u001b[1;34m'.hdf5'\u001b[0m\u001b[1;33m:\u001b[0m\u001b[1;33m\u001b[0m\u001b[1;33m\u001b[0m\u001b[0m\n\u001b[0;32m     60\u001b[0m                 \u001b[0merr\u001b[0m \u001b[1;33m=\u001b[0m \u001b[1;34m'Can only load .mat. Please use package hdfdict instead'\u001b[0m\u001b[0;31m\\\u001b[0m\u001b[1;33m\u001b[0m\u001b[1;33m\u001b[0m\u001b[0m\n",
      "\u001b[1;32m~\\miniconda3\\envs\\HRproyect\\lib\\site-packages\\mat73\\__init__.py\u001b[0m in \u001b[0;36munpack_mat\u001b[1;34m(self, hdf5, depth)\u001b[0m\n\u001b[0;32m    112\u001b[0m             \u001b[1;32mreturn\u001b[0m \u001b[0md\u001b[0m\u001b[1;33m\u001b[0m\u001b[1;33m\u001b[0m\u001b[0m\n\u001b[0;32m    113\u001b[0m         \u001b[1;32melif\u001b[0m \u001b[0misinstance\u001b[0m\u001b[1;33m(\u001b[0m\u001b[0mhdf5\u001b[0m\u001b[1;33m,\u001b[0m \u001b[0mh5py\u001b[0m\u001b[1;33m.\u001b[0m\u001b[0m_hl\u001b[0m\u001b[1;33m.\u001b[0m\u001b[0mdataset\u001b[0m\u001b[1;33m.\u001b[0m\u001b[0mDataset\u001b[0m\u001b[1;33m)\u001b[0m\u001b[1;33m:\u001b[0m\u001b[1;33m\u001b[0m\u001b[1;33m\u001b[0m\u001b[0m\n\u001b[1;32m--> 114\u001b[1;33m             \u001b[1;32mreturn\u001b[0m \u001b[0mself\u001b[0m\u001b[1;33m.\u001b[0m\u001b[0mconvert_mat\u001b[0m\u001b[1;33m(\u001b[0m\u001b[0mhdf5\u001b[0m\u001b[1;33m,\u001b[0m \u001b[0mdepth\u001b[0m\u001b[1;33m)\u001b[0m\u001b[1;33m\u001b[0m\u001b[1;33m\u001b[0m\u001b[0m\n\u001b[0m\u001b[0;32m    115\u001b[0m         \u001b[1;32melse\u001b[0m\u001b[1;33m:\u001b[0m\u001b[1;33m\u001b[0m\u001b[1;33m\u001b[0m\u001b[0m\n\u001b[0;32m    116\u001b[0m             \u001b[1;32mraise\u001b[0m \u001b[0mException\u001b[0m\u001b[1;33m(\u001b[0m\u001b[1;34mf'Unknown hdf5 type: {key}:{type(hdf5)}'\u001b[0m\u001b[1;33m)\u001b[0m\u001b[1;33m\u001b[0m\u001b[1;33m\u001b[0m\u001b[0m\n",
      "\u001b[1;32m~\\miniconda3\\envs\\HRproyect\\lib\\site-packages\\mat73\\__init__.py\u001b[0m in \u001b[0;36mconvert_mat\u001b[1;34m(self, dataset, depth)\u001b[0m\n\u001b[0;32m    139\u001b[0m             \u001b[1;32mreturn\u001b[0m \u001b[1;32mNone\u001b[0m\u001b[1;33m\u001b[0m\u001b[1;33m\u001b[0m\u001b[0m\n\u001b[0;32m    140\u001b[0m \u001b[1;33m\u001b[0m\u001b[0m\n\u001b[1;32m--> 141\u001b[1;33m         \u001b[1;32mif\u001b[0m \u001b[0mself\u001b[0m\u001b[1;33m.\u001b[0m\u001b[0m_has_refs\u001b[0m\u001b[1;33m(\u001b[0m\u001b[0mdataset\u001b[0m\u001b[1;33m)\u001b[0m\u001b[1;33m:\u001b[0m\u001b[1;33m\u001b[0m\u001b[1;33m\u001b[0m\u001b[0m\n\u001b[0m\u001b[0;32m    142\u001b[0m             \u001b[0mmtype\u001b[0m\u001b[1;33m=\u001b[0m\u001b[1;34m'cell'\u001b[0m\u001b[1;33m\u001b[0m\u001b[1;33m\u001b[0m\u001b[0m\n\u001b[0;32m    143\u001b[0m         \u001b[1;32melif\u001b[0m \u001b[1;34m'MATLAB_empty'\u001b[0m \u001b[1;32min\u001b[0m \u001b[0mdataset\u001b[0m\u001b[1;33m.\u001b[0m\u001b[0mattrs\u001b[0m\u001b[1;33m.\u001b[0m\u001b[0mkeys\u001b[0m\u001b[1;33m(\u001b[0m\u001b[1;33m)\u001b[0m \u001b[1;32mand\u001b[0m\u001b[0;31m \u001b[0m\u001b[0;31m\\\u001b[0m\u001b[1;33m\u001b[0m\u001b[1;33m\u001b[0m\u001b[0m\n",
      "\u001b[1;32m~\\miniconda3\\envs\\HRproyect\\lib\\site-packages\\mat73\\__init__.py\u001b[0m in \u001b[0;36m_has_refs\u001b[1;34m(self, dataset)\u001b[0m\n\u001b[0;32m    119\u001b[0m     \u001b[1;32mdef\u001b[0m \u001b[0m_has_refs\u001b[0m\u001b[1;33m(\u001b[0m\u001b[0mself\u001b[0m\u001b[1;33m,\u001b[0m \u001b[0mdataset\u001b[0m\u001b[1;33m)\u001b[0m\u001b[1;33m:\u001b[0m\u001b[1;33m\u001b[0m\u001b[1;33m\u001b[0m\u001b[0m\n\u001b[0;32m    120\u001b[0m         \u001b[1;32mif\u001b[0m \u001b[0mlen\u001b[0m\u001b[1;33m(\u001b[0m\u001b[0mdataset\u001b[0m\u001b[1;33m)\u001b[0m\u001b[1;33m==\u001b[0m\u001b[1;36m0\u001b[0m\u001b[1;33m:\u001b[0m \u001b[1;32mreturn\u001b[0m \u001b[1;32mFalse\u001b[0m\u001b[1;33m\u001b[0m\u001b[1;33m\u001b[0m\u001b[0m\n\u001b[1;32m--> 121\u001b[1;33m         \u001b[1;32mif\u001b[0m \u001b[1;32mnot\u001b[0m \u001b[0misinstance\u001b[0m\u001b[1;33m(\u001b[0m\u001b[0mdataset\u001b[0m\u001b[1;33m[\u001b[0m\u001b[1;36m0\u001b[0m\u001b[1;33m]\u001b[0m\u001b[1;33m,\u001b[0m \u001b[0mnp\u001b[0m\u001b[1;33m.\u001b[0m\u001b[0mndarray\u001b[0m\u001b[1;33m)\u001b[0m\u001b[1;33m:\u001b[0m \u001b[1;32mreturn\u001b[0m \u001b[1;32mFalse\u001b[0m\u001b[1;33m\u001b[0m\u001b[1;33m\u001b[0m\u001b[0m\n\u001b[0m\u001b[0;32m    122\u001b[0m         \u001b[1;32mif\u001b[0m \u001b[0misinstance\u001b[0m\u001b[1;33m(\u001b[0m\u001b[0mdataset\u001b[0m\u001b[1;33m[\u001b[0m\u001b[1;36m0\u001b[0m\u001b[1;33m]\u001b[0m\u001b[1;33m[\u001b[0m\u001b[1;36m0\u001b[0m\u001b[1;33m]\u001b[0m\u001b[1;33m,\u001b[0m \u001b[0mh5py\u001b[0m\u001b[1;33m.\u001b[0m\u001b[0mh5r\u001b[0m\u001b[1;33m.\u001b[0m\u001b[0mReference\u001b[0m\u001b[1;33m)\u001b[0m\u001b[1;33m:\u001b[0m\u001b[1;33m\u001b[0m\u001b[1;33m\u001b[0m\u001b[0m\n\u001b[0;32m    123\u001b[0m             \u001b[1;32mreturn\u001b[0m \u001b[1;32mTrue\u001b[0m\u001b[1;33m\u001b[0m\u001b[1;33m\u001b[0m\u001b[0m\n",
      "\u001b[1;32mh5py\\_objects.pyx\u001b[0m in \u001b[0;36mh5py._objects.with_phil.wrapper\u001b[1;34m()\u001b[0m\n",
      "\u001b[1;32mh5py\\_objects.pyx\u001b[0m in \u001b[0;36mh5py._objects.with_phil.wrapper\u001b[1;34m()\u001b[0m\n",
      "\u001b[1;32m~\\miniconda3\\envs\\HRproyect\\lib\\site-packages\\h5py\\_hl\\dataset.py\u001b[0m in \u001b[0;36m__getitem__\u001b[1;34m(self, args, new_dtype)\u001b[0m\n\u001b[0;32m    698\u001b[0m         \u001b[1;32mif\u001b[0m \u001b[0mself\u001b[0m\u001b[1;33m.\u001b[0m\u001b[0m_fast_read_ok\u001b[0m \u001b[1;32mand\u001b[0m \u001b[1;33m(\u001b[0m\u001b[0mnew_dtype\u001b[0m \u001b[1;32mis\u001b[0m \u001b[1;32mNone\u001b[0m\u001b[1;33m)\u001b[0m\u001b[1;33m:\u001b[0m\u001b[1;33m\u001b[0m\u001b[1;33m\u001b[0m\u001b[0m\n\u001b[0;32m    699\u001b[0m             \u001b[1;32mtry\u001b[0m\u001b[1;33m:\u001b[0m\u001b[1;33m\u001b[0m\u001b[1;33m\u001b[0m\u001b[0m\n\u001b[1;32m--> 700\u001b[1;33m                 \u001b[1;32mreturn\u001b[0m \u001b[0mself\u001b[0m\u001b[1;33m.\u001b[0m\u001b[0m_fast_reader\u001b[0m\u001b[1;33m.\u001b[0m\u001b[0mread\u001b[0m\u001b[1;33m(\u001b[0m\u001b[0margs\u001b[0m\u001b[1;33m)\u001b[0m\u001b[1;33m\u001b[0m\u001b[1;33m\u001b[0m\u001b[0m\n\u001b[0m\u001b[0;32m    701\u001b[0m             \u001b[1;32mexcept\u001b[0m \u001b[0mTypeError\u001b[0m\u001b[1;33m:\u001b[0m\u001b[1;33m\u001b[0m\u001b[1;33m\u001b[0m\u001b[0m\n\u001b[0;32m    702\u001b[0m                 \u001b[1;32mpass\u001b[0m  \u001b[1;31m# Fall back to Python read pathway below\u001b[0m\u001b[1;33m\u001b[0m\u001b[1;33m\u001b[0m\u001b[0m\n",
      "\u001b[1;31mKeyboardInterrupt\u001b[0m: "
     ]
    }
   ],
   "source": [
    "root=\"E:/Documentos/Dataset/\" #espesificacion de la direccion donde se encuentra los archivos \".mat\" \n",
    "dirsv=\"E:/Documentos/Proyecto IA/pre_dataset/\"\n",
    "p= Path(root) #generamos una variable de tipo ruata con la direccion de los archivos \n",
    "dirs = os.listdir(p)#guardamos en una lista los nombres de los archivos \n",
    "d=256 #generamos las dimencion de que va a tener la imagenes resultantes \n",
    "p=0 #vatiable para diferenciar los archivos resultantes \n",
    "for a in range(len(dirs)): #recorremos cada un de lso archivoa originales \n",
    "    img=mat73.loadmat(root+dirs[a]).get('rgb') #cargamos el archivo corespondiente a la iteracion \n",
    "    x=int(img.shape[0]/d) #caculamos la cantidad de particiones que podemos hacer en cada eje \n",
    "    y=int(img.shape[1]/d)\n",
    "    xcut=range(img.shape[0])[::d] #calculamos los puntos de corte que va a terner la imagen \n",
    "    ycut=range(img.shape[1])[::d]\n",
    "    for i in range(x): #comenzamos a recorre los archivos y cortarlos \n",
    "        for o in range(y):\n",
    "            p=p+1\n",
    "            ctimg=img[xcut[i] : xcut[i+1], ycut[o]:ycut[o+1] ,:] #cortamos la imagen en cada seccion \n",
    "            bluimg=cv2.GaussianBlur(ctimg,(5,5),4)#revisar el filtro \n",
    "            frm=bluimg.shape\n",
    "            val=int(frm[0]-(frm[0]*0.25))#se redujo en una cuarta parte \n",
    "            rdimg=cv2.resize(bluimg, dsize=(val, val), interpolation=cv2.INTER_LINEAR)#escoger el interpolador \n",
    "            #svfile={'ctimg':ctimg} #si queremos guardarlo en \".mat\" tenemos que cuaradrlo e un diccionario \n",
    "            #name='E:/Documentos/Proyecto IA/prueba/'+dirs[a].replace('.mat',str(p)+\".mat\") #y guardmos la seccion \n",
    "            org=dirsv+dirs[a].replace('.mat',\"_\"+str(p)+\".png\")\n",
    "            ppc=dirsv+dirs[a].replace('.mat',\"_\"+str(p)+\"_prc\"+\".png\")\n",
    "            imorg = Image.fromarray((ctimg * 255).astype(np.uint8))\n",
    "            imppc = Image.fromarray((rdimg * 255).astype(np.uint8))\n",
    "            imorg.save(org)\n",
    "            imppc.save(ppc)\n",
    "            #savemat(name,svfile)\n",
    "   "
   ]
  },
  {
   "cell_type": "code",
   "execution_count": 23,
   "id": "7066f91b",
   "metadata": {},
   "outputs": [
    {
     "name": "stdout",
     "output_type": "stream",
     "text": [
      "[0.04287304 0.30474321 0.24763464 ... 0.16410018 0.1570375  0.17570179]\n"
     ]
    }
   ],
   "source": [
    "root=\"E:/Documentos/Dataset/\" #espesificacion de la direccion donde se encuentra los archivos \".mat\" \n",
    "dirsv=\"E:/Documentos/Proyecto IA/pre_dataset/\"\n",
    "p= Path(root) #generamos una variable de tipo ruata con la direccion de los archivos \n",
    "dirs = os.listdir(p)#guardamos en una lista los nombres de los archivos \n",
    "d=256 #generamos las dimencion de que va a tener la imagenes resultantes \n",
    "p=0 #vatiable para diferenciar los archivos resultantes \n",
    "arryl=[]\n",
    "arryh=[]\n",
    "val=int(d-(d*0.25))#se redujo en una cuarta parte\n",
    "for a in range(3): #recorremos cada un de lso archivoa originales len(dirs)\n",
    "    img=mat73.loadmat(root+dirs[a]).get('rgb') #cargamos el archivo corespondiente a la iteracion \n",
    "    x=int(img.shape[0]/d) #caculamos la cantidad de particiones que podemos hacer en cada eje \n",
    "    y=int(img.shape[1]/d)\n",
    "    xcut=range(img.shape[0])[::d] #calculamos los puntos de corte que va a terner la imagen \n",
    "    ycut=range(img.shape[1])[::d]\n",
    "    for i in range(x): #comenzamos a recorre los archivos y cortarlos \n",
    "        for o in range(y):\n",
    "            p=p+1\n",
    "            ctimg=img[xcut[i] : xcut[i+1], ycut[o]:ycut[o+1] ,:] #cortamos la imagen en cada seccion \n",
    "            ctimg=color.rgb2gray(ctimg)\n",
    "            bluimg=cv2.GaussianBlur(ctimg,(5,5),4)#revisar el filtro \n",
    "            rdimg=cv2.resize(bluimg, dsize=(val, val), interpolation=cv2.INTER_LINEAR)#escoger el interpolador \n",
    "            imgh=ctimg.reshape(d*d)\n",
    "            imgl=rdimg.reshape(val*val)\n",
    "            arryh.append(imgh)\n",
    "            arryl.append(imgl)\n",
    "            #svfile={'ctimg':ctimg} #si queremos guardarlo en \".mat\" tenemos que cuaradrlo e un diccionario \n",
    "            #name='E:/Documentos/Proyecto IA/prueba/'+dirs[a].replace('.mat',str(p)+\".mat\") #y guardmos la seccion \n",
    "            #org=dirsv+dirs[a].replace('.mat',\"_\"+str(p)+\".png\")\n",
    "            #ppc=dirsv+dirs[a].replace('.mat',\"_\"+str(p)+\"_prc\"+\".png\")\n",
    "            #imgh = color.rgb2gray(ctimg)\n",
    "            #imgl = color.rgb2gray(rdimg)\n",
    "            #imorg = Image.fromarray(np.uint8(imgh * 255) , 'L')\n",
    "            #imppc = Image.fromarray(np.uint8(imgl * 255) , 'L')\n",
    "            #imorg = Image.fromarray((ctimg * 255).astype(np.uint8))\n",
    "            #imppc = Image.fromarray((rdimg * 255).astype(np.uint8))\n",
    "            #imorg.save(org)\n",
    "            #imppc.save(ppc)\n",
    "            #savemat(name,svfile)\n",
    "pd.DataFrame(arryh).to_csv('HR_imagen.csv')\n",
    "pd.DataFrame(arryh).to_csv('LR_imagen.csv')\n",
    "\n"
   ]
  },
  {
   "cell_type": "code",
   "execution_count": 24,
   "id": "78135df5",
   "metadata": {},
   "outputs": [
    {
     "name": "stdout",
     "output_type": "stream",
     "text": [
      "[0.14468964 0.14303266 0.16908113 ... 0.16875734 0.18094423 0.18841828]\n"
     ]
    }
   ],
   "source": [
    "print(arryl[0])"
   ]
  },
  {
   "cell_type": "code",
   "execution_count": null,
   "id": "7ae15c9c",
   "metadata": {},
   "outputs": [],
   "source": [
    "root=\"E:/Documentos/Dataset/\" #espesificacion de la direccion donde se encuentra los archivos \".mat\" \n",
    "dirsv=\"E:/Documentos/Proyecto IA/pre_dataset/\"\n",
    "p= Path(root) #generamos una variable de tipo ruata con la direccion de los archivos \n",
    "dirs = os.listdir(p)#guardamos en una lista los nombres de los archivos \n",
    "d=256 #generamos las dimencion de que va a tener la imagenes resultantes \n",
    "p=0 #vatiable para diferenciar los archivos resultantes \n",
    "arryl=[]\n",
    "arryh=[]\n",
    "val=int(d-(d*0.25))#se redujo en una cuarta parte\n",
    "for a in range(3): #recorremos cada un de lso archivoa originales len(dirs)\n",
    "    img=mat73.loadmat(root+dirs[a]).get('rgb') #cargamos el archivo corespondiente a la iteracion \n",
    "    x=int(img.shape[0]/d) #caculamos la cantidad de particiones que podemos hacer en cada eje \n",
    "    y=int(img.shape[1]/d)\n",
    "    xcut=range(img.shape[0])[::d] #calculamos los puntos de corte que va a terner la imagen \n",
    "    ycut=range(img.shape[1])[::d]\n",
    "    for i in range(x): #comenzamos a recorre los archivos y cortarlos \n",
    "        for o in range(y):\n",
    "            p=p+1\n",
    "            ctimg=img[xcut[i] : xcut[i+1], ycut[o]:ycut[o+1] ,:] #cortamos la imagen en cada seccion \n",
    "            ctimg=color.rgb2gray(ctimg)\n",
    "            bluimg=cv2.GaussianBlur(ctimg,(5,5),4)#revisar el filtro \n",
    "            rdimg=cv2.resize(bluimg, dsize=(val, val), interpolation=cv2.INTER_LINEAR)#escoger el interpolador \n",
    "            imgh=ctimg.reshape(d*d)\n",
    "            imgl=rdimg.reshape(val*val)\n",
    "            arryh.append(imgh)\n",
    "            arryl.append(imgl)\n",
    "pd.DataFrame(arryh).to_csv('HR_imagen.csv')\n",
    "pd.DataFrame(arryh).to_csv('LR_imagen.csv')\n",
    "\n"
   ]
  }
 ],
 "metadata": {
  "kernelspec": {
   "display_name": "Python 3 (ipykernel)",
   "language": "python",
   "name": "python3"
  },
  "language_info": {
   "codemirror_mode": {
    "name": "ipython",
    "version": 3
   },
   "file_extension": ".py",
   "mimetype": "text/x-python",
   "name": "python",
   "nbconvert_exporter": "python",
   "pygments_lexer": "ipython3",
   "version": "3.9.6"
  }
 },
 "nbformat": 4,
 "nbformat_minor": 5
}
