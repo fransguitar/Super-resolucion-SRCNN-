{
 "cells": [
  {
   "cell_type": "code",
   "execution_count": 2,
   "id": "23de89be",
   "metadata": {},
   "outputs": [],
   "source": [
    "from pathlib import Path\n",
    "import os\n",
    "from scipy.io import savemat\n",
    "import mat73\n",
    "import numpy as np\n",
    "import cv2\n",
    "import matplotlib.pyplot as plt\n",
    "from PIL import Image"
   ]
  },
  {
   "cell_type": "code",
   "execution_count": 3,
   "id": "f7e183a0",
   "metadata": {},
   "outputs": [],
   "source": [
    "root=\"E:/Documentos/Dataset/\" #espesificacion de la direccion donde se encuentra los archivos \".mat\" \n",
    "dirsv=\"E:/Documentos/Proyecto IA/pre_dataset/\"\n",
    "p= Path(root) #generamos una baria ble de tipo ruata con la direccion de los archivos \n",
    "dirs = os.listdir(p)#guardamos en una lista los nombres de los archivos \n",
    "d=256 #generamos las dimencion de que va a tener la imagenes resultantes \n",
    "p=0 #vatiable para diferenciar los archivos resultantes \n",
    "for a in range(len(dirs)): #recorremos cada un de lso archivoa originales \n",
    "    img=mat73.loadmat(root+dirs[a]).get('rgb') #cargamos el archivo corespondiente a la iteracion \n",
    "    x=int(img.shape[0]/d) #caculamos la cantidad de particiones que podemos hacer en cada eje \n",
    "    y=int(img.shape[1]/d)\n",
    "    xcut=range(img.shape[0])[::d] #calculamos los puntos de corte que va a terner la imagen \n",
    "    ycut=range(img.shape[0])[::d]\n",
    "    for i in range(x): #comenzamos a recorre los archivos y cortarlos \n",
    "        for o in range(y):\n",
    "            p=p+1\n",
    "            ctimg=img[xcut[i] : xcut[i+1], ycut[o]:ycut[o+1] ,:] #cortamos la imagen en cada seccion \n",
    "            bluimg=cv2.GaussianBlur(ctimg,(5,5),4)\n",
    "            frm=bluimg.shape\n",
    "            val=int(frm[0]-(frm[0]*0.25))\n",
    "            rdimg=cv2.resize(bluimg, dsize=(val, val), interpolation=cv2.INTER_LINEAR)#escoger el interpolador \n",
    "            #svfile={'ctimg':ctimg} #si queremos guardarlo en \".mat\" tenemos que cuaradrlo e un diccionario \n",
    "            #name='E:/Documentos/Proyecto IA/prueba/'+dirs[a].replace('.mat',str(p)+\".mat\") #y guardmos la seccion \n",
    "            org=dirsv+dirs[a].replace('.mat',\"_\"+str(p)+\".png\")\n",
    "            ppc=dirsv+dirs[a].replace('.mat',\"_\"+str(p)+\"_prc\"+\".png\")\n",
    "            imorg = Image.fromarray((ctimg * 255).astype(np.uint8))\n",
    "            imppc = Image.fromarray((rdimg * 255).astype(np.uint8))\n",
    "            imorg.save(org)\n",
    "            imppc.save(ppc)\n",
    "            #savemat(name,svfile)\n",
    "   "
   ]
  },
  {
   "cell_type": "code",
   "execution_count": null,
   "id": "78135df5",
   "metadata": {},
   "outputs": [],
   "source": []
  }
 ],
 "metadata": {
  "kernelspec": {
   "display_name": "Python 3 (ipykernel)",
   "language": "python",
   "name": "python3"
  },
  "language_info": {
   "codemirror_mode": {
    "name": "ipython",
    "version": 3
   },
   "file_extension": ".py",
   "mimetype": "text/x-python",
   "name": "python",
   "nbconvert_exporter": "python",
   "pygments_lexer": "ipython3",
   "version": "3.9.6"
  }
 },
 "nbformat": 4,
 "nbformat_minor": 5
}
