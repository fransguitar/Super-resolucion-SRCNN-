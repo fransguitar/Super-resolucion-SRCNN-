{
 "cells": [
  {
   "cell_type": "code",
   "execution_count": 2,
   "id": "b67c8b9d",
   "metadata": {},
   "outputs": [],
   "source": [
    "from pathlib import Path\n",
    "import os\n",
    "from scipy.io import savemat\n",
    "#import h5py\n",
    "import mat73\n",
    "#from skimage import io \n",
    "#from PIL import Image\n",
    "import numpy as np\n",
    "import cv2\n",
    "import matplotlib.pyplot as plt\n",
    "from skimage import color\n",
    "from skimage import io"
   ]
  },
  {
   "cell_type": "code",
   "execution_count": null,
   "id": "9aed57ae",
   "metadata": {},
   "outputs": [],
   "source": [
    "root=\"E:/Documentos/Dataset/\" #espesificacion de la direccion donde se encuentra los archivos \".mat\" \n",
    "dirsvh=\"E:/Documentos/Proyecto IA/pre_dataset/high resolution image/\"\n",
    "dirsvl=\"E:/Documentos/Proyecto IA/pre_dataset/Low resolution image/\"\n",
    "p= Path(root) #generamos una variable de tipo ruata con la direccion de los archivos \n",
    "dirs = os.listdir(p)#guardamos en una lista los nombres de los archivos \n",
    "d=256 #generamos las dimencion de que va a tener la imagenes resultantes \n",
    "p=0 #variable para diferenciar los archivos resultantes \n",
    "arryl=[]\n",
    "arryh=[]\n",
    "val=int(d-(d*0.25))#se redujo en una cuarta parte\n",
    "for a in range(len(dirs)): #recorremos cada un de lso archivoa originales len(dirs)\n",
    "    img=mat73.loadmat(root+dirs[a]).get('rgb') #cargamos el archivo corespondiente a la iteracion \n",
    "    x=int(img.shape[0]/d) #caculamos la cantidad de particiones que podemos hacer en cada eje \n",
    "    y=int(img.shape[1]/d)\n",
    "    xcut=range(img.shape[0])[::d] #calculamos los puntos de corte que va a terner la imagen \n",
    "    ycut=range(img.shape[1])[::d]\n",
    "    for i in range(x): #comenzamos a recorre los archivos y cortarlos \n",
    "        for o in range(y):\n",
    "            p=p+1\n",
    "            ctimg=img[xcut[i] : xcut[i+1], ycut[o]:ycut[o+1] ,:] #cortamos la imagen en cada seccion \n",
    "            ctimg = np.array(ctimg*255, dtype=np.uint8)\n",
    "            ctimg= cv2.cvtColor(ctimg, cv2.COLOR_RGB2YCrCb)#ctimg=color.rgb2gray(ctimg)\n",
    "            bluimg=cv2.GaussianBlur(ctimg,(5,5),4)#revisar el filtro \n",
    "            rdimg=cv2.resize(bluimg, dsize=(val, val), interpolation=cv2.INTER_LINEAR)#escoger el interpolador \n",
    "            imgh=ctimg\n",
    "            imgl=rdimg\n",
    "            svfileh={'hres':imgh}\n",
    "            svfilel={'lres':imgl}\n",
    "            nameh=dirsvh+dirs[a].replace('.mat',str(p)+\".mat\")\n",
    "            namel=dirsvl+dirs[a].replace('.mat',str(p)+\".mat\")\n",
    "            savemat(nameh,svfileh)\n",
    "            savemat(namel,svfilel)\n",
    "pd.DataFrame(arryh).to_csv('HR_imagen.csv')\n",
    "pd.DataFrame(arryh).to_csv('LR_imagen.csv')\n",
    "\n"
   ]
  }
 ],
 "metadata": {
  "interpreter": {
   "hash": "424d113df9484d96ee50d76d0319ac660bff2f890cea39c99a80af2460c2f6f9"
  },
  "kernelspec": {
   "display_name": "Python 3.9.6 64-bit",
   "name": "python3"
  },
  "language_info": {
   "codemirror_mode": {
    "name": "ipython",
    "version": 3
   },
   "file_extension": ".py",
   "mimetype": "text/x-python",
   "name": "python",
   "nbconvert_exporter": "python",
   "pygments_lexer": "ipython3",
   "version": "3.9.6"
  }
 },
 "nbformat": 4,
 "nbformat_minor": 5
}
